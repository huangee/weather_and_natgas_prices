{
 "cells": [
  {
   "cell_type": "markdown",
   "metadata": {},
   "source": [
    "## Cross Validation\n",
    "\n",
    "This notebook looks at polynomial regression in addition to simple linear regression, and uses 10 K-folds to cross validate a test set after being fit on a training set."
   ]
  },
  {
   "cell_type": "code",
   "execution_count": 4,
   "metadata": {},
   "outputs": [],
   "source": [
    "import numpy as np\n",
    "import pandas as pd\n",
    "\n",
    "import statsmodels.formula.api as smf\n",
    "\n",
    "from sklearn.model_selection import train_test_split\n",
    "from sklearn.linear_model import LinearRegression\n",
    "from sklearn.preprocessing import PolynomialFeatures\n",
    "\n",
    "from sklearn.model_selection import KFold"
   ]
  },
  {
   "cell_type": "code",
   "execution_count": 3,
   "metadata": {},
   "outputs": [
    {
     "data": {
      "text/html": [
       "<div>\n",
       "<style scoped>\n",
       "    .dataframe tbody tr th:only-of-type {\n",
       "        vertical-align: middle;\n",
       "    }\n",
       "\n",
       "    .dataframe tbody tr th {\n",
       "        vertical-align: top;\n",
       "    }\n",
       "\n",
       "    .dataframe thead th {\n",
       "        text-align: right;\n",
       "    }\n",
       "</style>\n",
       "<table border=\"1\" class=\"dataframe\">\n",
       "  <thead>\n",
       "    <tr style=\"text-align: right;\">\n",
       "      <th></th>\n",
       "      <th>Log_Price</th>\n",
       "      <th>Low_Temp_log</th>\n",
       "    </tr>\n",
       "  </thead>\n",
       "  <tbody>\n",
       "    <tr>\n",
       "      <th>0</th>\n",
       "      <td>0.438255</td>\n",
       "      <td>3.760037</td>\n",
       "    </tr>\n",
       "    <tr>\n",
       "      <th>1</th>\n",
       "      <td>0.329304</td>\n",
       "      <td>3.872034</td>\n",
       "    </tr>\n",
       "    <tr>\n",
       "      <th>2</th>\n",
       "      <td>0.307485</td>\n",
       "      <td>3.997466</td>\n",
       "    </tr>\n",
       "    <tr>\n",
       "      <th>3</th>\n",
       "      <td>0.277632</td>\n",
       "      <td>4.168679</td>\n",
       "    </tr>\n",
       "    <tr>\n",
       "      <th>4</th>\n",
       "      <td>0.451076</td>\n",
       "      <td>4.090337</td>\n",
       "    </tr>\n",
       "    <tr>\n",
       "      <th>5</th>\n",
       "      <td>0.570980</td>\n",
       "      <td>3.938275</td>\n",
       "    </tr>\n",
       "    <tr>\n",
       "      <th>6</th>\n",
       "      <td>0.494696</td>\n",
       "      <td>3.918601</td>\n",
       "    </tr>\n",
       "    <tr>\n",
       "      <th>7</th>\n",
       "      <td>0.425268</td>\n",
       "      <td>3.961575</td>\n",
       "    </tr>\n",
       "    <tr>\n",
       "      <th>8</th>\n",
       "      <td>0.582216</td>\n",
       "      <td>3.988984</td>\n",
       "    </tr>\n",
       "    <tr>\n",
       "      <th>9</th>\n",
       "      <td>0.615186</td>\n",
       "      <td>3.775745</td>\n",
       "    </tr>\n",
       "  </tbody>\n",
       "</table>\n",
       "</div>"
      ],
      "text/plain": [
       "   Log_Price  Low_Temp_log\n",
       "0   0.438255      3.760037\n",
       "1   0.329304      3.872034\n",
       "2   0.307485      3.997466\n",
       "3   0.277632      4.168679\n",
       "4   0.451076      4.090337\n",
       "5   0.570980      3.938275\n",
       "6   0.494696      3.918601\n",
       "7   0.425268      3.961575\n",
       "8   0.582216      3.988984\n",
       "9   0.615186      3.775745"
      ]
     },
     "execution_count": 3,
     "metadata": {},
     "output_type": "execute_result"
    }
   ],
   "source": [
    "df = pd.read_csv('./data/transcoz6_winter.csv', usecols=[\"Log_Price\",\"Low_Temp_log\"])\n",
    "df.head(10)"
   ]
  },
  {
   "cell_type": "code",
   "execution_count": 51,
   "metadata": {},
   "outputs": [],
   "source": [
    "X, y = df['Log_Price'], df['Low_Temp_log']\n",
    "\n",
    "#hold out 20% of the data for final testing\n",
    "X, X_test, y, y_test = train_test_split(X, y, test_size=.2, random_state=10)\n",
    "\n",
    "#this helps with the way kf will generate indices below\n",
    "X, y = np.array(X), np.array(y)\n",
    "X_test, y_test = np.array(X_test), np.array(y_test)"
   ]
  },
  {
   "cell_type": "code",
   "execution_count": 69,
   "metadata": {},
   "outputs": [
    {
     "name": "stdout",
     "output_type": "stream",
     "text": [
      "Simple regression scores:  [0.5183587548879174, 0.4506757535733857, 0.1658512098388497, 0.5587721680370903, 0.3696824137219281, 0.5895953788783432, 0.5146110749738777, 0.6951350331026895, 0.04577950889948834, 0.11514092978113788]\n",
      "Degree 2 polynomial scores:  [0.5269701255483132, 0.4564372416541913, 0.17096071331633267, 0.5554007474238754, 0.3382171358923485, 0.5783170225913746, 0.46681266572211577, 0.6971200982980928, 0.020637748676765155, 0.1233101170564971] \n",
      "\n",
      "Simple mean cv r^2: 0.402 +- 0.210\n",
      "Poly mean cv r^2: 0.393 +- 0.211\n"
     ]
    }
   ],
   "source": [
    "kf = KFold(n_splits=10, shuffle=True, random_state = 33) \n",
    "#shuffle True will randomize the data before doing the splits\n",
    "\n",
    "cv_lm_r2s, cv_lm_poly_r2s = [], [] #collect the validation results for both models\n",
    "\n",
    "for train_ind, val_ind in kf.split(X,y):\n",
    "    \n",
    "    X_train, y_train = X[train_ind], y[train_ind]\n",
    "    X_val, y_val = X[val_ind], y[val_ind] \n",
    "    \n",
    "    #simple linear regression\n",
    "    lm = LinearRegression()\n",
    "\n",
    "    lm.fit(X_train.reshape(-1, 1), y_train)\n",
    "    cv_lm_r2s.append(lm.score(X_val.reshape(-1, 1), y_val))\n",
    "    \n",
    "    #need to reshape everything because there's only one feature\n",
    "\n",
    "    #polynomial regression with degree 2\n",
    "    poly = PolynomialFeatures(degree=2) \n",
    "\n",
    "    X_train_poly = poly.fit_transform(X_train.reshape(-1, 1))\n",
    "    X_val_poly = poly.transform(X_val.reshape(-1, 1))\n",
    "    X_test_poly = poly.transform(X_test.reshape(-1, 1))\n",
    "\n",
    "    lm_poly = LinearRegression()\n",
    "    lm_poly.fit(X_train_poly, y_train)\n",
    "    cv_lm_poly_r2s.append(lm_poly.score(X_val_poly, y_val))\n",
    "\n",
    "print('Simple regression scores: ', cv_lm_r2s)\n",
    "print('Degree 2 polynomial scores: ', cv_lm_poly_r2s, '\\n')\n",
    "\n",
    "print(f'Simple mean cv r^2: {np.mean(cv_lm_r2s):.3f} +- {np.std(cv_lm_r2s):.3f}')\n",
    "print(f'Poly mean cv r^2: {np.mean(cv_lm_poly_r2s):.3f} +- {np.std(cv_lm_poly_r2s):.3f}')"
   ]
  },
  {
   "cell_type": "code",
   "execution_count": 72,
   "metadata": {},
   "outputs": [
    {
     "name": "stdout",
     "output_type": "stream",
     "text": [
      "Linear Regression test R^2: 0.536\n"
     ]
    }
   ],
   "source": [
    "lm.fit(X.reshape(-1,1),y)\n",
    "print(f'Linear Regression test R^2: {lm.score(X_test.reshape(-1,1), y_test):.3f}')"
   ]
  },
  {
   "cell_type": "markdown",
   "metadata": {},
   "source": [
    "## Conclusion\n",
    "\n",
    "Overall, the simple linear regression performed just as well as the polynomial regression, but is simpler and less computationally expensive.  The test set even had a higher R-squared than the training set!  \n",
    "Compared to other natural gas hubs, **Transco Z6 NY** spot prices in the winter are pretty correlated to the daily low temperatures by its nearest physical location in **Linden, NJ**, and can be roughly predicted within a certain range.  \n",
    "I believe this is due to a variety of reasons:\n",
    "- the largest demand location (New York City) is located near by\n",
    "- winters are cold enough to warrant a larger increase in demand (as opposed to heating demand in Louisiana)\n",
    "- there aren't many other options to supply gas outside of Transco Z6"
   ]
  },
  {
   "cell_type": "code",
   "execution_count": null,
   "metadata": {},
   "outputs": [],
   "source": []
  }
 ],
 "metadata": {
  "kernelspec": {
   "display_name": "Python 3",
   "language": "python",
   "name": "python3"
  },
  "language_info": {
   "codemirror_mode": {
    "name": "ipython",
    "version": 3
   },
   "file_extension": ".py",
   "mimetype": "text/x-python",
   "name": "python",
   "nbconvert_exporter": "python",
   "pygments_lexer": "ipython3",
   "version": "3.7.2"
  }
 },
 "nbformat": 4,
 "nbformat_minor": 2
}
